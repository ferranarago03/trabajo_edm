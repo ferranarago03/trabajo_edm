{
 "cells": [
  {
   "cell_type": "code",
   "execution_count": 1,
   "id": "2075e5c9",
   "metadata": {},
   "outputs": [],
   "source": [
    "import osmnx as ox\n",
    "from shapely.geometry import LineString, shape\n",
    "import sys\n",
    "import geopandas as gpd\n",
    "import pandas as pd\n",
    "from tqdm import tqdm\n",
    "\n",
    "sys.path.append(\"../src/\")\n",
    "from utils import get_gdf\n"
   ]
  },
  {
   "cell_type": "markdown",
   "id": "afc86165",
   "metadata": {},
   "source": [
    "## Carga de grafos y dataset de árboles"
   ]
  },
  {
   "cell_type": "code",
   "execution_count": 2,
   "id": "bd95e70a",
   "metadata": {},
   "outputs": [],
   "source": [
    "graph_walk = ox.load_graphml(\"../data/valencia_walking_network.graphml\")\n",
    "graph_cycle = ox.load_graphml(\"../data/valencia_cycling_network.graphml\")"
   ]
  },
  {
   "cell_type": "code",
   "execution_count": 3,
   "id": "7581af44",
   "metadata": {},
   "outputs": [],
   "source": [
    "arboles = pd.read_csv(\"../data/arbratge-arbolado.csv\", sep=\";\")\n",
    "\n",
    "arboles[\"geometry\"] = arboles[\"geo_shape\"].apply(lambda x: shape(eval(x)))\n",
    "\n",
    "gdf_arboles = get_gdf(arboles)"
   ]
  },
  {
   "cell_type": "markdown",
   "id": "ee2e3db3",
   "metadata": {},
   "source": [
    "## Prueba con subset"
   ]
  },
  {
   "cell_type": "code",
   "execution_count": 4,
   "id": "33863a2c",
   "metadata": {},
   "outputs": [
    {
     "name": "stderr",
     "output_type": "stream",
     "text": [
      "Calculando sombra: 100%|██████████| 10/10 [00:00<?, ?it/s]"
     ]
    },
    {
     "name": "stdout",
     "output_type": "stream",
     "text": [
      "                                length  num_arboles  peso_25_30\n",
      "u           v           key                                    \n",
      "10963821125 10963821098 0    14.506893            0    2.901379\n",
      "10873732476 10873732466 0    48.955626            0    9.791125\n",
      "10248794380 10248794360 0    32.265947            1    5.653189\n",
      "1636824903  10942249303 1    45.011365            0    9.002273\n",
      "10908424185 10908424186 0     8.414645            0    1.682929\n",
      "11013720047 11013720046 0    12.176602           13   -7.964680\n",
      "112137514   112137583   0    19.150238            6   -0.969952\n",
      "11177553400 11177553402 0     5.107707            0    1.021541\n",
      "4102819112  4102819111  0    33.701911            0    6.740382\n",
      "11536783077 11536783080 0    10.858826            8   -4.228235\n"
     ]
    },
    {
     "name": "stderr",
     "output_type": "stream",
     "text": [
      "\n"
     ]
    }
   ],
   "source": [
    "# Prueba con un subset para ver que funciona\n",
    "\n",
    "graph_proj = ox.project_graph(graph_walk, to_crs=\"EPSG:25830\")\n",
    "edges = ox.graph_to_gdfs(graph_proj, nodes=False)\n",
    "\n",
    "# Proyectar árboles\n",
    "arboles_proj = arboles.copy()\n",
    "arboles_proj = gpd.GeoDataFrame(arboles_proj, geometry=\"geometry\", crs=\"EPSG:4326\")\n",
    "arboles_proj = arboles_proj.to_crs(edges.crs)\n",
    "\n",
    "# Crear índice espacial para eficiencia\n",
    "sindex = arboles_proj.sindex\n",
    "\n",
    "# Parámetros\n",
    "radio = 15  # metros\n",
    "w_len, w_sombra = 0.2, 0.8  # pesos para temperatura 25-30 °C\n",
    "\n",
    "\n",
    "# Calcular número de árboles cercanos\n",
    "def contar_arboles_cercanos(geom):\n",
    "    posibles = list(sindex.intersection(geom.buffer(radio).bounds))\n",
    "    cercanos = arboles_proj.iloc[posibles]\n",
    "    return cercanos.distance(geom).lt(radio).sum()\n",
    "\n",
    "\n",
    "edges_subset = edges.sample(10, random_state=42).copy()\n",
    "\n",
    "tqdm.pandas(desc=\"Calculando sombra\")\n",
    "edges_subset[\"num_arboles\"] = edges_subset.geometry.progress_apply(\n",
    "    contar_arboles_cercanos\n",
    ")\n",
    "\n",
    "# Calcular peso\n",
    "edges_subset[\"peso_25_30\"] = (\n",
    "    w_len * edges_subset[\"length\"] - w_sombra * edges_subset[\"num_arboles\"]\n",
    ")\n",
    "\n",
    "print(edges_subset[[\"length\", \"num_arboles\", \"peso_25_30\"]])\n"
   ]
  },
  {
   "cell_type": "markdown",
   "id": "d0c5a0a3",
   "metadata": {},
   "source": [
    "## Generación de columnas de peso para walk y cycle"
   ]
  },
  {
   "cell_type": "code",
   "execution_count": null,
   "id": "34acf429",
   "metadata": {},
   "outputs": [
    {
     "name": "stderr",
     "output_type": "stream",
     "text": [
      "  0%|          | 0/126948 [00:00<?, ?it/s]C:\\Users\\carle\\AppData\\Local\\Temp\\ipykernel_17336\\2280196184.py:41: UserWarning: Geometry is in a geographic CRS. Results from 'distance' are likely incorrect. Use 'GeoSeries.to_crs()' to re-project geometries to a projected CRS before this operation.\n",
      "\n",
      "  num_arboles = cercanos.distance(geom).lt(radio).sum()\n",
      "100%|██████████| 126948/126948 [3:57:29<00:00,  8.91it/s]  \n"
     ]
    }
   ],
   "source": [
    "# Grafo WALK\n",
    "radio = 15\n",
    "tramos = [(0, 5), (5, 10), (10, 15), (15, 20), (20, 25), (25, 30), (30, 35), (35, 40)]\n",
    "pesos = {\n",
    "    (0, 5): (0.7, 0.3),\n",
    "    (5, 10): (0.6, 0.4),\n",
    "    (10, 15): (0.5, 0.5),\n",
    "    (15, 20): (0.4, 0.6),\n",
    "    (20, 25): (0.3, 0.7),\n",
    "    (25, 30): (0.2, 0.8),\n",
    "    (30, 35): (0.1, 0.9),\n",
    "    (35, 40): (0.05, 0.95),\n",
    "}\n",
    "\n",
    "sindex = gdf_arboles.sindex\n",
    "\n",
    "for u, v, data in tqdm(graph_walk.edges(data=True)):\n",
    "    geom = data.get(\"geometry\", None)\n",
    "    if geom is None:\n",
    "        # construir un line string del nodo u al nodo v\n",
    "        u_geom = (graph_walk.nodes[u][\"y\"], graph_walk.nodes[u][\"x\"])\n",
    "        v_geom = (graph_walk.nodes[v][\"y\"], graph_walk.nodes[v][\"x\"])\n",
    "        geom = LineString([u_geom, v_geom])\n",
    "\n",
    "    # Contar árboles cercanos\n",
    "    posibles = list(sindex.intersection(geom.buffer(radio).bounds))\n",
    "    cercanos = gdf_arboles.iloc[posibles]\n",
    "    num_arboles = cercanos.distance(geom).lt(radio).sum()\n",
    "\n",
    "    data[\"num_arboles\"] = num_arboles\n",
    "    length = data.get(\"length\", 1)\n",
    "\n",
    "    # Calcular un peso por cada tramo de temperatura\n",
    "    for tramo in tramos:\n",
    "        w_len, w_sombra = pesos[tramo]\n",
    "        t_str = f\"peso_{tramo[0]}_{tramo[1]}\"\n",
    "        data[t_str] = w_len * length - w_sombra * num_arboles + 1000\n"
   ]
  },
  {
   "cell_type": "code",
   "execution_count": null,
   "id": "1f154e6f",
   "metadata": {},
   "outputs": [],
   "source": [
    "# guardar el grafo con los pesos\n",
    "ox.save_graphml(graph_walk, \"../data/valencia_walking_sombra.graphml\")"
   ]
  },
  {
   "cell_type": "code",
   "execution_count": 7,
   "id": "f64ddf87",
   "metadata": {},
   "outputs": [
    {
     "name": "stderr",
     "output_type": "stream",
     "text": [
      "  0%|          | 0/2959 [00:00<?, ?it/s]C:\\Users\\Ferran Arago\\AppData\\Local\\Temp\\ipykernel_37340\\3212225047.py:28: UserWarning: Geometry is in a geographic CRS. Results from 'distance' are likely incorrect. Use 'GeoSeries.to_crs()' to re-project geometries to a projected CRS before this operation.\n",
      "\n",
      "  num_arboles = cercanos.distance(geom).lt(radio).sum()\n",
      "100%|██████████| 2959/2959 [06:11<00:00,  7.97it/s]\n"
     ]
    }
   ],
   "source": [
    "# Grafo CYCLE\n",
    "radio = 15\n",
    "tramos = [(0, 5), (5, 10), (10, 15), (15, 20), (20, 25), (25, 30), (30, 35), (35, 40)]\n",
    "pesos = {\n",
    "    (0, 5): (0.7, 0.3),\n",
    "    (5, 10): (0.6, 0.4),\n",
    "    (10, 15): (0.5, 0.5),\n",
    "    (15, 20): (0.4, 0.6),\n",
    "    (20, 25): (0.3, 0.7),\n",
    "    (25, 30): (0.2, 0.8),\n",
    "    (30, 35): (0.1, 0.9),\n",
    "    (35, 40): (0.05, 0.95),\n",
    "}\n",
    "\n",
    "sindex = gdf_arboles.sindex\n",
    "\n",
    "for u, v, data in tqdm(graph_cycle.edges(data=True)):\n",
    "    geom = data.get(\"geometry\", None)\n",
    "    if geom is None:\n",
    "        # construir un line string del nodo u al nodo v\n",
    "        u_geom = (graph_cycle.nodes[u][\"y\"], graph_cycle.nodes[u][\"x\"])\n",
    "        v_geom = (graph_cycle.nodes[v][\"y\"], graph_cycle.nodes[v][\"x\"])\n",
    "        geom = LineString([u_geom, v_geom])\n",
    "\n",
    "    # Contar árboles cercanos\n",
    "    posibles = list(sindex.intersection(geom.buffer(radio).bounds))\n",
    "    cercanos = gdf_arboles.iloc[posibles]\n",
    "    num_arboles = cercanos.distance(geom).lt(radio).sum()\n",
    "\n",
    "    data[\"num_arboles\"] = num_arboles\n",
    "    length = data.get(\"length\", 1)\n",
    "\n",
    "    # Calcular un peso por cada tramo de temperatura\n",
    "    for tramo in tramos:\n",
    "        w_len, w_sombra = pesos[tramo]\n",
    "        t_str = f\"peso_{tramo[0]}_{tramo[1]}\"\n",
    "        data[t_str] = w_len * length - w_sombra * num_arboles + 1000\n"
   ]
  },
  {
   "cell_type": "code",
   "execution_count": 8,
   "id": "1ed5f974",
   "metadata": {},
   "outputs": [],
   "source": [
    "# guardar el grafo con los pesos\n",
    "ox.save_graphml(graph_cycle, \"../data/valencia_cycling_sombra.graphml\")"
   ]
  }
 ],
 "metadata": {
  "kernelspec": {
   "display_name": ".venv",
   "language": "python",
   "name": "python3"
  },
  "language_info": {
   "codemirror_mode": {
    "name": "ipython",
    "version": 3
   },
   "file_extension": ".py",
   "mimetype": "text/x-python",
   "name": "python",
   "nbconvert_exporter": "python",
   "pygments_lexer": "ipython3",
   "version": "3.12.9"
  }
 },
 "nbformat": 4,
 "nbformat_minor": 5
}
