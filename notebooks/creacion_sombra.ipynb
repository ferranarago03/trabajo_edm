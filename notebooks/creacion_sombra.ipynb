{
 "cells": [
  {
   "cell_type": "code",
   "execution_count": 1,
   "id": "2075e5c9",
   "metadata": {},
   "outputs": [],
   "source": [
    "import osmnx as ox\n",
    "from shapely.geometry import LineString, shape\n",
    "import sys\n",
    "import geopandas as gpd\n",
    "import pandas as pd\n",
    "from tqdm import tqdm\n",
    "\n",
    "sys.path.append(\"../src/\")\n",
    "from utils import get_gdf\n"
   ]
  },
  {
   "cell_type": "markdown",
   "id": "afc86165",
   "metadata": {},
   "source": [
    "## Carga de grafos y dataset de árboles"
   ]
  },
  {
   "cell_type": "code",
   "execution_count": 2,
   "id": "bd95e70a",
   "metadata": {},
   "outputs": [],
   "source": [
    "graph_walk = ox.load_graphml(\"../data/valencia_walking_network.graphml\")\n",
    "graph_cycle = ox.load_graphml(\"../data/valencia_cycling_network.graphml\")"
   ]
  },
  {
   "cell_type": "code",
   "execution_count": 3,
   "id": "7581af44",
   "metadata": {},
   "outputs": [],
   "source": [
    "arboles = pd.read_csv(\"../data/arbratge-arbolado.csv\", sep=\";\")\n",
    "\n",
    "arboles[\"geometry\"] = arboles[\"geo_shape\"].apply(lambda x: shape(eval(x)))\n",
    "\n",
    "gdf_arboles = get_gdf(arboles)"
   ]
  },
  {
   "cell_type": "markdown",
   "id": "ee2e3db3",
   "metadata": {},
   "source": [
    "## Prueba con subset"
   ]
  },
  {
   "cell_type": "code",
   "execution_count": 4,
   "id": "33863a2c",
   "metadata": {},
   "outputs": [
    {
     "name": "stderr",
     "output_type": "stream",
     "text": [
      "Calculando sombra: 100%|██████████| 10/10 [00:00<00:00, 974.58it/s]"
     ]
    },
    {
     "name": "stdout",
     "output_type": "stream",
     "text": [
      "                                length  num_arboles  peso_25_30\n",
      "u           v           key                                    \n",
      "3536480963  10101947238 0    14.885372            0    2.977074\n",
      "10873732466 10873732476 0    48.955626            0    9.791125\n",
      "10248794380 10248794360 0    32.265947            1    5.653189\n",
      "1636824903  10942249303 1    45.011365            0    9.002273\n",
      "10908411199 10911332037 0    10.547231            4   -1.090554\n",
      "11013591667 11013591668 0     9.019294            3   -0.596141\n",
      "112137514   112137583   0    19.150238            6   -0.969952\n",
      "11177553400 11177553402 0     5.107707            0    1.021541\n",
      "4102819109  4102819107  0    54.512278            0   10.902456\n",
      "11536783077 7195974007  0    25.836072           13   -5.232786\n"
     ]
    },
    {
     "name": "stderr",
     "output_type": "stream",
     "text": [
      "\n"
     ]
    }
   ],
   "source": [
    "# Prueba con un subset para ver que funciona\n",
    "\n",
    "graph_proj = ox.project_graph(graph_walk, to_crs=\"EPSG:25830\")\n",
    "edges = ox.graph_to_gdfs(graph_proj, nodes=False)\n",
    "\n",
    "# Proyectar árboles\n",
    "arboles_proj = arboles.copy()\n",
    "arboles_proj = gpd.GeoDataFrame(arboles_proj, geometry=\"geometry\", crs=\"EPSG:4326\")\n",
    "arboles_proj = arboles_proj.to_crs(edges.crs)\n",
    "\n",
    "# Crear índice espacial para eficiencia\n",
    "sindex = arboles_proj.sindex\n",
    "\n",
    "# Parámetros\n",
    "radio = 15  # metros\n",
    "w_len, w_sombra = 0.2, 0.8  # pesos para temperatura 25-30 °C\n",
    "\n",
    "\n",
    "# Calcular número de árboles cercanos\n",
    "def contar_arboles_cercanos(geom):\n",
    "    posibles = list(sindex.intersection(geom.buffer(radio).bounds))\n",
    "    cercanos = arboles_proj.iloc[posibles]\n",
    "    return cercanos.distance(geom).lt(radio).sum()\n",
    "\n",
    "\n",
    "edges_subset = edges.sample(10, random_state=42).copy()\n",
    "\n",
    "tqdm.pandas(desc=\"Calculando sombra\")\n",
    "edges_subset[\"num_arboles\"] = edges_subset.geometry.progress_apply(\n",
    "    contar_arboles_cercanos\n",
    ")\n",
    "\n",
    "# Calcular peso\n",
    "edges_subset[\"peso_25_30\"] = (\n",
    "    w_len * edges_subset[\"length\"] - w_sombra * edges_subset[\"num_arboles\"]\n",
    ")\n",
    "\n",
    "print(edges_subset[[\"length\", \"num_arboles\", \"peso_25_30\"]])\n"
   ]
  },
  {
   "cell_type": "markdown",
   "id": "d0c5a0a3",
   "metadata": {},
   "source": [
    "## Generación de columnas de peso para walk y cycle"
   ]
  },
  {
   "cell_type": "code",
   "execution_count": null,
   "id": "34acf429",
   "metadata": {},
   "outputs": [
    {
     "name": "stderr",
     "output_type": "stream",
     "text": [
      "100%|██████████| 126948/126948 [02:01<00:00, 1041.85it/s]\n"
     ]
    }
   ],
   "source": [
    "# Grafo WALK\n",
    "radio = 15\n",
    "tramos = [(0, 5), (5, 10), (10, 15), (15, 20), (20, 25), (25, 30), (30, 35), (35, 40)]\n",
    "pesos = {\n",
    "    (0, 5): (0.95, 0.05),\n",
    "    (5, 10): (0.90, 0.1),\n",
    "    (10, 15): (0.85, 0.15),\n",
    "    (15, 20): (0.70, 0.30),\n",
    "    (20, 25): (0.5, 0.5),\n",
    "    (25, 30): (0.35, 0.65),\n",
    "    (30, 35): (0.3, 0.7),\n",
    "    (35, 40): (0.25, 0.75),\n",
    "}\n",
    "\n",
    "graph_walk_proj = ox.project_graph(graph_walk, to_crs=\"EPSG:25830\")\n",
    "gdf_arboles_proj = gdf_arboles.to_crs(\"EPSG:25830\")\n",
    "\n",
    "\n",
    "sindex = gdf_arboles_proj.sindex\n",
    "\n",
    "for u, v, data in tqdm(graph_walk_proj.edges(data=True)):\n",
    "    geom = data.get(\"geometry\", None)\n",
    "    if geom is None:\n",
    "        # construir un line string del nodo u al nodo v\n",
    "        u_geom = (graph_walk.nodes[u][\"y\"], graph_walk.nodes[u][\"x\"])\n",
    "        v_geom = (graph_walk.nodes[v][\"y\"], graph_walk.nodes[v][\"x\"])\n",
    "        geom = LineString([u_geom, v_geom])\n",
    "\n",
    "    # Contar árboles cercanos\n",
    "    posibles = list(sindex.intersection(geom.buffer(radio).bounds))\n",
    "    cercanos = gdf_arboles_proj.iloc[posibles]\n",
    "    num_arboles = cercanos.distance(geom).lt(radio).sum()\n",
    "\n",
    "    data[\"num_arboles\"] = num_arboles\n",
    "    length = data.get(\"length\", 1)\n",
    "\n",
    "    # Calcular un peso por cada tramo de temperatura\n",
    "    for tramo in tramos:\n",
    "        w_len, w_sombra = pesos[tramo]\n",
    "        t_str = f\"peso_{tramo[0]}_{tramo[1]}\"\n",
    "        data[t_str] = w_len * length - w_sombra * num_arboles + 1000\n"
   ]
  },
  {
   "cell_type": "code",
   "execution_count": 6,
   "id": "1f154e6f",
   "metadata": {},
   "outputs": [],
   "source": [
    "# guardar el grafo con los pesos\n",
    "ox.save_graphml(graph_walk_proj, \"../data/valencia_walking_sombra.graphml\")"
   ]
  },
  {
   "cell_type": "code",
   "execution_count": null,
   "id": "f64ddf87",
   "metadata": {},
   "outputs": [
    {
     "name": "stderr",
     "output_type": "stream",
     "text": [
      "100%|██████████| 2959/2959 [00:05<00:00, 523.09it/s]\n"
     ]
    }
   ],
   "source": [
    "# Grafo CYCLE\n",
    "radio = 15\n",
    "tramos = [(0, 5), (5, 10), (10, 15), (15, 20), (20, 25), (25, 30), (30, 35), (35, 40)]\n",
    "pesos = {\n",
    "    (0, 5): (0.95, 0.05),\n",
    "    (5, 10): (0.90, 0.1),\n",
    "    (10, 15): (0.85, 0.15),\n",
    "    (15, 20): (0.70, 0.30),\n",
    "    (20, 25): (0.5, 0.5),\n",
    "    (25, 30): (0.35, 0.65),\n",
    "    (30, 35): (0.3, 0.7),\n",
    "    (35, 40): (0.25, 0.75),\n",
    "}\n",
    "\n",
    "graph_cycle_proj = ox.project_graph(graph_cycle, to_crs=\"EPSG:25830\")\n",
    "gdf_arboles_proj = gdf_arboles.to_crs(\"EPSG:25830\")\n",
    "\n",
    "\n",
    "sindex = gdf_arboles_proj.sindex\n",
    "\n",
    "for u, v, data in tqdm(graph_cycle_proj.edges(data=True)):\n",
    "    geom = data.get(\"geometry\", None)\n",
    "    if geom is None:\n",
    "        # construir un line string del nodo u al nodo v\n",
    "        u_geom = (graph_cycle.nodes[u][\"y\"], graph_cycle.nodes[u][\"x\"])\n",
    "        v_geom = (graph_cycle.nodes[v][\"y\"], graph_cycle.nodes[v][\"x\"])\n",
    "        geom = LineString([u_geom, v_geom])\n",
    "\n",
    "    # Contar árboles cercanos\n",
    "    posibles = list(sindex.intersection(geom.buffer(radio).bounds))\n",
    "    cercanos = gdf_arboles_proj.iloc[posibles]\n",
    "    num_arboles = cercanos.distance(geom).lt(radio).sum()\n",
    "\n",
    "    data[\"num_arboles\"] = num_arboles\n",
    "    length = data.get(\"length\", 1)\n",
    "\n",
    "    # Calcular un peso por cada tramo de temperatura\n",
    "    for tramo in tramos:\n",
    "        w_len, w_sombra = pesos[tramo]\n",
    "        t_str = f\"peso_{tramo[0]}_{tramo[1]}\"\n",
    "        data[t_str] = w_len * length - w_sombra * num_arboles + 1000\n"
   ]
  },
  {
   "cell_type": "code",
   "execution_count": 8,
   "id": "1ed5f974",
   "metadata": {},
   "outputs": [],
   "source": [
    "# guardar el grafo con los pesos\n",
    "ox.save_graphml(graph_cycle_proj, \"../data/valencia_cycling_sombra.graphml\")"
   ]
  }
 ],
 "metadata": {
  "kernelspec": {
   "display_name": ".venv",
   "language": "python",
   "name": "python3"
  },
  "language_info": {
   "codemirror_mode": {
    "name": "ipython",
    "version": 3
   },
   "file_extension": ".py",
   "mimetype": "text/x-python",
   "name": "python",
   "nbconvert_exporter": "python",
   "pygments_lexer": "ipython3",
   "version": "3.12.9"
  }
 },
 "nbformat": 4,
 "nbformat_minor": 5
}
