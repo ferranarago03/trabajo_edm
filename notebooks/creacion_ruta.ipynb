{
 "cells": [
  {
   "cell_type": "code",
   "execution_count": null,
   "id": "2075e5c9",
   "metadata": {},
   "outputs": [],
   "source": [
    "import osmnx as ox"
   ]
  },
  {
   "cell_type": "code",
   "execution_count": 2,
   "id": "866c6e4e",
   "metadata": {},
   "outputs": [],
   "source": [
    "def get_route(start, end, graph):\n",
    "    \"\"\"\n",
    "    Get the route between two nodes in the graph.\n",
    "\n",
    "    Parameters:\n",
    "        start(tuple): Tuple of coordenates for the start point.\n",
    "        end: Tuple of coordinates for the end point.\n",
    "        graph: The cycling network graph.\n",
    "\n",
    "    Returns:\n",
    "        list: A list of nodes representing the route.\n",
    "    \"\"\"\n",
    "    from_node = ox.distance.nearest_nodes(graph, start[1], start[0])\n",
    "    to_node = ox.distance.nearest_nodes(graph, end[1], end[0])\n",
    "\n",
    "    route = ox.shortest_path(graph, from_node, to_node, weight=\"length\")\n",
    "    return route"
   ]
  },
  {
   "cell_type": "code",
   "execution_count": null,
   "id": "bd95e70a",
   "metadata": {},
   "outputs": [],
   "source": [
    "graph = ox.load_graphml(\"../data/valencia_walking_network.graphml\")"
   ]
  },
  {
   "cell_type": "code",
   "execution_count": 23,
   "id": "f450edbc",
   "metadata": {},
   "outputs": [
    {
     "name": "stdout",
     "output_type": "stream",
     "text": [
      "{'osmid': 803049226, 'highway': 'footway', 'oneway': False, 'reversed': False, 'length': 8.794706111104842}\n"
     ]
    }
   ],
   "source": [
    "for ini, fin, info in graph.edges(data=True):\n",
    "    print(info)\n",
    "    break"
   ]
  },
  {
   "cell_type": "code",
   "execution_count": 24,
   "id": "6b3b097a",
   "metadata": {},
   "outputs": [],
   "source": [
    "inicio = (39.478316, -0.373266)\n",
    "fin = (39.467615, -0.377149)\n",
    "\n",
    "route = get_route(inicio, fin, graph)"
   ]
  }
 ],
 "metadata": {
  "kernelspec": {
   "display_name": ".venv",
   "language": "python",
   "name": "python3"
  },
  "language_info": {
   "codemirror_mode": {
    "name": "ipython",
    "version": 3
   },
   "file_extension": ".py",
   "mimetype": "text/x-python",
   "name": "python",
   "nbconvert_exporter": "python",
   "pygments_lexer": "ipython3",
   "version": "3.12.9"
  }
 },
 "nbformat": 4,
 "nbformat_minor": 5
}
