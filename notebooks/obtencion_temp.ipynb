{
 "cells": [
  {
   "cell_type": "code",
   "execution_count": 123,
   "id": "a186141b",
   "metadata": {},
   "outputs": [],
   "source": [
    "from datetime import datetime as dt\n",
    "\n",
    "import openmeteo_requests\n",
    "\n",
    "import pandas as pd\n",
    "import requests_cache\n",
    "from retry_requests import retry\n",
    "\n",
    "now = dt.now()\n",
    "day = now.strftime(\"%Y-%m-%d\")\n",
    "\n",
    "# Setup the Open-Meteo API client with cache and retry on error\n",
    "cache_session = requests_cache.CachedSession(\".cache\", expire_after=3600)\n",
    "retry_session = retry(cache_session, retries=5, backoff_factor=0.2)\n",
    "openmeteo = openmeteo_requests.Client(session=retry_session)\n",
    "\n",
    "# Make sure all required weather variables are listed here\n",
    "# The order of variables in hourly or daily is important to assign them correctly below\n",
    "url = \"https://api.open-meteo.com/v1/forecast\"\n",
    "params = {\n",
    "    \"latitude\": 39.4739,\n",
    "    \"longitude\": -0.3797,\n",
    "    \"hourly\": \"temperature_2m\",\n",
    "    \"start_date\": day,\n",
    "    \"end_date\": day,\n",
    "}\n",
    "responses = openmeteo.weather_api(url, params=params)\n",
    "\n",
    "# Process first location. Add a for-loop for multiple locations or weather models\n",
    "response = responses[0]\n",
    "\n",
    "# Process hourly data. The order of variables needs to be the same as requested.\n",
    "hourly = response.Hourly()\n",
    "hourly_temperature_2m = hourly.Variables(0).ValuesAsNumpy()\n",
    "\n",
    "hourly_data = {\n",
    "    \"date\": pd.date_range(\n",
    "        start=pd.to_datetime(hourly.Time(), unit=\"s\", utc=True),\n",
    "        end=pd.to_datetime(hourly.TimeEnd(), unit=\"s\", utc=True),\n",
    "        freq=pd.Timedelta(seconds=hourly.Interval()),\n",
    "        inclusive=\"left\",\n",
    "    )\n",
    "}\n",
    "\n",
    "hourly_data[\"temperature_2m\"] = hourly_temperature_2m\n",
    "\n",
    "hourly_dataframe = pd.DataFrame(data=hourly_data)"
   ]
  },
  {
   "cell_type": "code",
   "execution_count": 124,
   "id": "c834540c",
   "metadata": {},
   "outputs": [],
   "source": [
    "def get_temperature_data(now: dt) -> int:\n",
    "    \"\"\"\n",
    "    Fetches temperature data for a specific day using the Open-Meteo API.\n",
    "\n",
    "    Parameters:\n",
    "        day (datetime): The date for which to fetch temperature data in 'YYYY-MM-DD' format.\n",
    "\n",
    "    Returns:\n",
    "        int: The temperature in degrees Celsius for the specified day at the current hour.\n",
    "    \"\"\"\n",
    "\n",
    "    # Setup the Open-Meteo API client with cache and retry on error\n",
    "    cache_session = requests_cache.CachedSession(\".cache\", expire_after=3600)\n",
    "    retry_session = retry(cache_session, retries=5, backoff_factor=0.2)\n",
    "    openmeteo = openmeteo_requests.Client(session=retry_session)\n",
    "\n",
    "    # Make sure all required weather variables are listed here\n",
    "    # The order of variables in hourly or daily is important to assign them correctly below\n",
    "    url = \"https://api.open-meteo.com/v1/forecast\"\n",
    "    params = {\n",
    "        \"latitude\": 39.4739,\n",
    "        \"longitude\": -0.3797,\n",
    "        \"hourly\": \"temperature_2m\",\n",
    "        \"start_date\": day,\n",
    "        \"end_date\": day,\n",
    "    }\n",
    "    responses = openmeteo.weather_api(url, params=params)\n",
    "\n",
    "    # Process first location. Add a for-loop for multiple locations or weather models\n",
    "    response = responses[0]\n",
    "\n",
    "    # Process hourly data. The order of variables needs to be the same as requested.\n",
    "    hourly = response.Hourly()\n",
    "    hourly_temperature_2m = hourly.Variables(0).ValuesAsNumpy()\n",
    "\n",
    "    hourly_data = {\n",
    "        \"date\": pd.date_range(\n",
    "            start=pd.to_datetime(hourly.Time(), unit=\"s\", utc=True),\n",
    "            end=pd.to_datetime(hourly.TimeEnd(), unit=\"s\", utc=True),\n",
    "            freq=pd.Timedelta(seconds=hourly.Interval()),\n",
    "            inclusive=\"left\",\n",
    "        )\n",
    "    }\n",
    "\n",
    "    hourly_data[\"temperature_2m\"] = hourly_temperature_2m\n",
    "\n",
    "    hourly_dataframe = pd.DataFrame(data=hourly_data)\n",
    "\n",
    "    now = pd.Timestamp(dt(now.year, now.month, now.day, now.hour, 0, 0), tz=\"UTC\")\n",
    "\n",
    "    temp = hourly_dataframe[hourly_dataframe[\"date\"] == now][\"temperature_2m\"].values[0]\n",
    "\n",
    "    return temp"
   ]
  },
  {
   "cell_type": "code",
   "execution_count": 125,
   "id": "77a1d506",
   "metadata": {},
   "outputs": [
    {
     "data": {
      "text/html": [
       "<div>\n",
       "<style scoped>\n",
       "    .dataframe tbody tr th:only-of-type {\n",
       "        vertical-align: middle;\n",
       "    }\n",
       "\n",
       "    .dataframe tbody tr th {\n",
       "        vertical-align: top;\n",
       "    }\n",
       "\n",
       "    .dataframe thead th {\n",
       "        text-align: right;\n",
       "    }\n",
       "</style>\n",
       "<table border=\"1\" class=\"dataframe\">\n",
       "  <thead>\n",
       "    <tr style=\"text-align: right;\">\n",
       "      <th></th>\n",
       "      <th>date</th>\n",
       "      <th>temperature_2m</th>\n",
       "    </tr>\n",
       "  </thead>\n",
       "  <tbody>\n",
       "    <tr>\n",
       "      <th>0</th>\n",
       "      <td>2025-06-18 00:00:00+00:00</td>\n",
       "      <td>24.419500</td>\n",
       "    </tr>\n",
       "    <tr>\n",
       "      <th>1</th>\n",
       "      <td>2025-06-18 01:00:00+00:00</td>\n",
       "      <td>24.169500</td>\n",
       "    </tr>\n",
       "    <tr>\n",
       "      <th>2</th>\n",
       "      <td>2025-06-18 02:00:00+00:00</td>\n",
       "      <td>24.019501</td>\n",
       "    </tr>\n",
       "    <tr>\n",
       "      <th>3</th>\n",
       "      <td>2025-06-18 03:00:00+00:00</td>\n",
       "      <td>23.669500</td>\n",
       "    </tr>\n",
       "    <tr>\n",
       "      <th>4</th>\n",
       "      <td>2025-06-18 04:00:00+00:00</td>\n",
       "      <td>23.369501</td>\n",
       "    </tr>\n",
       "    <tr>\n",
       "      <th>5</th>\n",
       "      <td>2025-06-18 05:00:00+00:00</td>\n",
       "      <td>22.969501</td>\n",
       "    </tr>\n",
       "    <tr>\n",
       "      <th>6</th>\n",
       "      <td>2025-06-18 06:00:00+00:00</td>\n",
       "      <td>23.669500</td>\n",
       "    </tr>\n",
       "    <tr>\n",
       "      <th>7</th>\n",
       "      <td>2025-06-18 07:00:00+00:00</td>\n",
       "      <td>24.819500</td>\n",
       "    </tr>\n",
       "    <tr>\n",
       "      <th>8</th>\n",
       "      <td>2025-06-18 08:00:00+00:00</td>\n",
       "      <td>26.319500</td>\n",
       "    </tr>\n",
       "    <tr>\n",
       "      <th>9</th>\n",
       "      <td>2025-06-18 09:00:00+00:00</td>\n",
       "      <td>27.869501</td>\n",
       "    </tr>\n",
       "    <tr>\n",
       "      <th>10</th>\n",
       "      <td>2025-06-18 10:00:00+00:00</td>\n",
       "      <td>28.569500</td>\n",
       "    </tr>\n",
       "    <tr>\n",
       "      <th>11</th>\n",
       "      <td>2025-06-18 11:00:00+00:00</td>\n",
       "      <td>28.669500</td>\n",
       "    </tr>\n",
       "    <tr>\n",
       "      <th>12</th>\n",
       "      <td>2025-06-18 12:00:00+00:00</td>\n",
       "      <td>28.969501</td>\n",
       "    </tr>\n",
       "    <tr>\n",
       "      <th>13</th>\n",
       "      <td>2025-06-18 13:00:00+00:00</td>\n",
       "      <td>28.869501</td>\n",
       "    </tr>\n",
       "    <tr>\n",
       "      <th>14</th>\n",
       "      <td>2025-06-18 14:00:00+00:00</td>\n",
       "      <td>28.719501</td>\n",
       "    </tr>\n",
       "    <tr>\n",
       "      <th>15</th>\n",
       "      <td>2025-06-18 15:00:00+00:00</td>\n",
       "      <td>28.319500</td>\n",
       "    </tr>\n",
       "    <tr>\n",
       "      <th>16</th>\n",
       "      <td>2025-06-18 16:00:00+00:00</td>\n",
       "      <td>27.669500</td>\n",
       "    </tr>\n",
       "    <tr>\n",
       "      <th>17</th>\n",
       "      <td>2025-06-18 17:00:00+00:00</td>\n",
       "      <td>27.169500</td>\n",
       "    </tr>\n",
       "    <tr>\n",
       "      <th>18</th>\n",
       "      <td>2025-06-18 18:00:00+00:00</td>\n",
       "      <td>26.669500</td>\n",
       "    </tr>\n",
       "    <tr>\n",
       "      <th>19</th>\n",
       "      <td>2025-06-18 19:00:00+00:00</td>\n",
       "      <td>26.119501</td>\n",
       "    </tr>\n",
       "    <tr>\n",
       "      <th>20</th>\n",
       "      <td>2025-06-18 20:00:00+00:00</td>\n",
       "      <td>25.519501</td>\n",
       "    </tr>\n",
       "    <tr>\n",
       "      <th>21</th>\n",
       "      <td>2025-06-18 21:00:00+00:00</td>\n",
       "      <td>25.119501</td>\n",
       "    </tr>\n",
       "    <tr>\n",
       "      <th>22</th>\n",
       "      <td>2025-06-18 22:00:00+00:00</td>\n",
       "      <td>24.769501</td>\n",
       "    </tr>\n",
       "    <tr>\n",
       "      <th>23</th>\n",
       "      <td>2025-06-18 23:00:00+00:00</td>\n",
       "      <td>24.419500</td>\n",
       "    </tr>\n",
       "  </tbody>\n",
       "</table>\n",
       "</div>"
      ],
      "text/plain": [
       "                        date  temperature_2m\n",
       "0  2025-06-18 00:00:00+00:00       24.419500\n",
       "1  2025-06-18 01:00:00+00:00       24.169500\n",
       "2  2025-06-18 02:00:00+00:00       24.019501\n",
       "3  2025-06-18 03:00:00+00:00       23.669500\n",
       "4  2025-06-18 04:00:00+00:00       23.369501\n",
       "5  2025-06-18 05:00:00+00:00       22.969501\n",
       "6  2025-06-18 06:00:00+00:00       23.669500\n",
       "7  2025-06-18 07:00:00+00:00       24.819500\n",
       "8  2025-06-18 08:00:00+00:00       26.319500\n",
       "9  2025-06-18 09:00:00+00:00       27.869501\n",
       "10 2025-06-18 10:00:00+00:00       28.569500\n",
       "11 2025-06-18 11:00:00+00:00       28.669500\n",
       "12 2025-06-18 12:00:00+00:00       28.969501\n",
       "13 2025-06-18 13:00:00+00:00       28.869501\n",
       "14 2025-06-18 14:00:00+00:00       28.719501\n",
       "15 2025-06-18 15:00:00+00:00       28.319500\n",
       "16 2025-06-18 16:00:00+00:00       27.669500\n",
       "17 2025-06-18 17:00:00+00:00       27.169500\n",
       "18 2025-06-18 18:00:00+00:00       26.669500\n",
       "19 2025-06-18 19:00:00+00:00       26.119501\n",
       "20 2025-06-18 20:00:00+00:00       25.519501\n",
       "21 2025-06-18 21:00:00+00:00       25.119501\n",
       "22 2025-06-18 22:00:00+00:00       24.769501\n",
       "23 2025-06-18 23:00:00+00:00       24.419500"
      ]
     },
     "execution_count": 125,
     "metadata": {},
     "output_type": "execute_result"
    }
   ],
   "source": [
    "hourly_dataframe"
   ]
  },
  {
   "cell_type": "code",
   "execution_count": 126,
   "id": "f0a82e65",
   "metadata": {},
   "outputs": [
    {
     "name": "stdout",
     "output_type": "stream",
     "text": [
      "<class 'pandas.core.frame.DataFrame'>\n",
      "RangeIndex: 24 entries, 0 to 23\n",
      "Data columns (total 2 columns):\n",
      " #   Column          Non-Null Count  Dtype              \n",
      "---  ------          --------------  -----              \n",
      " 0   date            24 non-null     datetime64[ns, UTC]\n",
      " 1   temperature_2m  24 non-null     float32            \n",
      "dtypes: datetime64[ns, UTC](1), float32(1)\n",
      "memory usage: 420.0 bytes\n"
     ]
    }
   ],
   "source": [
    "hourly_dataframe.info()"
   ]
  },
  {
   "cell_type": "code",
   "execution_count": 127,
   "id": "a3c82aa3",
   "metadata": {},
   "outputs": [],
   "source": [
    "# hourly_dataframe[\"date\"] = hourly_dataframe[\"date\"].apply(lambda x: x.to_pydatetime())"
   ]
  },
  {
   "cell_type": "code",
   "execution_count": 128,
   "id": "3f66003d",
   "metadata": {},
   "outputs": [
    {
     "data": {
      "text/plain": [
       "Timestamp('2025-06-18 20:00:00+0000', tz='UTC')"
      ]
     },
     "execution_count": 128,
     "metadata": {},
     "output_type": "execute_result"
    }
   ],
   "source": [
    "now = pd.Timestamp(dt(now.year, now.month, now.day, now.hour, 0, 0), tz=\"UTC\")\n",
    "now"
   ]
  },
  {
   "cell_type": "code",
   "execution_count": 129,
   "id": "1d0e5748",
   "metadata": {},
   "outputs": [
    {
     "data": {
      "text/plain": [
       "Timestamp('2025-06-18 00:00:00+0000', tz='UTC')"
      ]
     },
     "execution_count": 129,
     "metadata": {},
     "output_type": "execute_result"
    }
   ],
   "source": [
    "hourly_dataframe.date[0]"
   ]
  },
  {
   "cell_type": "code",
   "execution_count": 130,
   "id": "4802887f",
   "metadata": {},
   "outputs": [
    {
     "data": {
      "text/html": [
       "<div>\n",
       "<style scoped>\n",
       "    .dataframe tbody tr th:only-of-type {\n",
       "        vertical-align: middle;\n",
       "    }\n",
       "\n",
       "    .dataframe tbody tr th {\n",
       "        vertical-align: top;\n",
       "    }\n",
       "\n",
       "    .dataframe thead th {\n",
       "        text-align: right;\n",
       "    }\n",
       "</style>\n",
       "<table border=\"1\" class=\"dataframe\">\n",
       "  <thead>\n",
       "    <tr style=\"text-align: right;\">\n",
       "      <th></th>\n",
       "      <th>date</th>\n",
       "      <th>temperature_2m</th>\n",
       "    </tr>\n",
       "  </thead>\n",
       "  <tbody>\n",
       "    <tr>\n",
       "      <th>20</th>\n",
       "      <td>2025-06-18 20:00:00+00:00</td>\n",
       "      <td>25.519501</td>\n",
       "    </tr>\n",
       "  </tbody>\n",
       "</table>\n",
       "</div>"
      ],
      "text/plain": [
       "                        date  temperature_2m\n",
       "20 2025-06-18 20:00:00+00:00       25.519501"
      ]
     },
     "execution_count": 130,
     "metadata": {},
     "output_type": "execute_result"
    }
   ],
   "source": [
    "hourly_dataframe[hourly_dataframe[\"date\"] == now]"
   ]
  },
  {
   "cell_type": "code",
   "execution_count": 131,
   "id": "8fe44544",
   "metadata": {},
   "outputs": [],
   "source": [
    "from zoneinfo import ZoneInfo"
   ]
  },
  {
   "cell_type": "code",
   "execution_count": 132,
   "id": "871c0d57",
   "metadata": {},
   "outputs": [
    {
     "data": {
      "text/plain": [
       "datetime.datetime(2025, 6, 18, 18, 33, 5, 914449, tzinfo=zoneinfo.ZoneInfo(key='UTC'))"
      ]
     },
     "execution_count": 132,
     "metadata": {},
     "output_type": "execute_result"
    }
   ],
   "source": [
    "dt.now(tz=ZoneInfo(\"UTC\"))"
   ]
  },
  {
   "cell_type": "code",
   "execution_count": 133,
   "id": "76a6b41a",
   "metadata": {},
   "outputs": [
    {
     "data": {
      "text/plain": [
       "np.float32(26.6695)"
      ]
     },
     "execution_count": 133,
     "metadata": {},
     "output_type": "execute_result"
    }
   ],
   "source": [
    "now = dt.now(tz=ZoneInfo(\"UTC\"))\n",
    "\n",
    "a = get_temperature_data(now)\n",
    "a"
   ]
  },
  {
   "cell_type": "code",
   "execution_count": 134,
   "id": "1a644fb4",
   "metadata": {},
   "outputs": [
    {
     "data": {
      "text/plain": [
       "'peso_25_30'"
      ]
     },
     "execution_count": 134,
     "metadata": {},
     "output_type": "execute_result"
    }
   ],
   "source": [
    "def get_range(temp):\n",
    "    for i in range(0, 41, 5):\n",
    "        if temp - 5 < i:\n",
    "            return f\"peso_{i}_{i + 5}\"\n",
    "\n",
    "\n",
    "get_range(a)"
   ]
  }
 ],
 "metadata": {
  "kernelspec": {
   "display_name": ".venv",
   "language": "python",
   "name": "python3"
  },
  "language_info": {
   "codemirror_mode": {
    "name": "ipython",
    "version": 3
   },
   "file_extension": ".py",
   "mimetype": "text/x-python",
   "name": "python",
   "nbconvert_exporter": "python",
   "pygments_lexer": "ipython3",
   "version": "3.12.9"
  }
 },
 "nbformat": 4,
 "nbformat_minor": 5
}
